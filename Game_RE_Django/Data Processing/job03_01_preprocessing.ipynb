{
 "cells": [
  {
   "cell_type": "code",
   "execution_count": 1,
   "metadata": {
    "collapsed": true
   },
   "outputs": [],
   "source": [
    "import pandas as pd"
   ]
  },
  {
   "cell_type": "code",
   "execution_count": 40,
   "outputs": [
    {
     "data": {
      "text/plain": "                       title  \\\n0       드래곤 시티 (Dragon City)   \n1       드래곤 시티 (Dragon City)   \n2       드래곤 시티 (Dragon City)   \n3       드래곤 시티 (Dragon City)   \n4       드래곤 시티 (Dragon City)   \n...                      ...   \n94311  The Seven Deadly Sins   \n94312  The Seven Deadly Sins   \n94313  The Seven Deadly Sins   \n94314  The Seven Deadly Sins   \n94315  The Seven Deadly Sins   \n\n                                                 reviews  \\\n0      지금 초반이라 그런지 이벤트도 진짜 혜자고(최상위 등급 드래곤을 줌) 즐기는데 벽을...   \n1      정말 재밌는데 딱 이 두가지만 고쳐주셨으면 좋겠어요. 1. 일단 부화, 타워 만들기...   \n2      지금은 관계도 없어서 너무 재밌어요 그리고 드래곤 은영아 음식이 나봐 이리 종류는 ...   \n3      이 게임 할 거 없을 때 하면은 언제가 시간이 순삭당라는 게임. 유저들의 불편함이 ...   \n4      드래곤ㄷㄹ이 서로서로 독특하게 잘 만들었습니다 그리고 노래소리가 주변 환경과 매우 ...   \n...                                                  ...   \n94311                                                 꿀잼   \n94312                                                  굳   \n94313                                          Super fun   \n94314                                               재미져요   \n94315                                                 최고   \n\n                                                  scores genres  \\\n0                                                    4.7  시뮬레이션   \n1                                                    4.7  시뮬레이션   \n2                                                    4.7  시뮬레이션   \n3                                                    4.7  시뮬레이션   \n4                                                    4.7  시뮬레이션   \n...                                                  ...    ...   \n94311  <div class=\"pf5lIe\"><div aria-label=\"별표 5개 만점에...   롤플레잉   \n94312  <div class=\"pf5lIe\"><div aria-label=\"별표 5개 만점에...   롤플레잉   \n94313  <div class=\"pf5lIe\"><div aria-label=\"별표 5개 만점에...   롤플레잉   \n94314  <div class=\"pf5lIe\"><div aria-label=\"별표 5개 만점에...   롤플레잉   \n94315  <div class=\"pf5lIe\"><div aria-label=\"별표 5개 만점에...   롤플레잉   \n\n                                       cleaned_sentences  \n0      초반이라 그런지 이벤트도 진짜 혜자고최상위 등급 드래곤을 즐기는데 벽을 느낀적은 없...  \n1      재밌는데 두가지만 고쳐주셨으면 좋겠어요 부화 타워 만들기번식 등으로 시간이 오래걸리...  \n2      지금은 관계도 재밌어요 드래곤 은영아 음식이 나봐 이리 종류는 재밌게 커요 여러가지...  \n3      게임 하면은 언제가 시간이 순삭당라는 게임 유저들의 불편함이 많이 토로 되었지만 보...  \n4               드래곤이 서로서로 독특하게 만들었습니다 노래소리가 주변 환경과 밀접합니다  \n...                                                  ...  \n94311                                                 꿀잼  \n94312                                                NaN  \n94313                                                NaN  \n94314                                               재미져요  \n94315                                                 최고  \n\n[94316 rows x 5 columns]",
      "text/html": "<div>\n<style scoped>\n    .dataframe tbody tr th:only-of-type {\n        vertical-align: middle;\n    }\n\n    .dataframe tbody tr th {\n        vertical-align: top;\n    }\n\n    .dataframe thead th {\n        text-align: right;\n    }\n</style>\n<table border=\"1\" class=\"dataframe\">\n  <thead>\n    <tr style=\"text-align: right;\">\n      <th></th>\n      <th>title</th>\n      <th>reviews</th>\n      <th>scores</th>\n      <th>genres</th>\n      <th>cleaned_sentences</th>\n    </tr>\n  </thead>\n  <tbody>\n    <tr>\n      <th>0</th>\n      <td>드래곤 시티 (Dragon City)</td>\n      <td>지금 초반이라 그런지 이벤트도 진짜 혜자고(최상위 등급 드래곤을 줌) 즐기는데 벽을...</td>\n      <td>4.7</td>\n      <td>시뮬레이션</td>\n      <td>초반이라 그런지 이벤트도 진짜 혜자고최상위 등급 드래곤을 즐기는데 벽을 느낀적은 없...</td>\n    </tr>\n    <tr>\n      <th>1</th>\n      <td>드래곤 시티 (Dragon City)</td>\n      <td>정말 재밌는데 딱 이 두가지만 고쳐주셨으면 좋겠어요. 1. 일단 부화, 타워 만들기...</td>\n      <td>4.7</td>\n      <td>시뮬레이션</td>\n      <td>재밌는데 두가지만 고쳐주셨으면 좋겠어요 부화 타워 만들기번식 등으로 시간이 오래걸리...</td>\n    </tr>\n    <tr>\n      <th>2</th>\n      <td>드래곤 시티 (Dragon City)</td>\n      <td>지금은 관계도 없어서 너무 재밌어요 그리고 드래곤 은영아 음식이 나봐 이리 종류는 ...</td>\n      <td>4.7</td>\n      <td>시뮬레이션</td>\n      <td>지금은 관계도 재밌어요 드래곤 은영아 음식이 나봐 이리 종류는 재밌게 커요 여러가지...</td>\n    </tr>\n    <tr>\n      <th>3</th>\n      <td>드래곤 시티 (Dragon City)</td>\n      <td>이 게임 할 거 없을 때 하면은 언제가 시간이 순삭당라는 게임. 유저들의 불편함이 ...</td>\n      <td>4.7</td>\n      <td>시뮬레이션</td>\n      <td>게임 하면은 언제가 시간이 순삭당라는 게임 유저들의 불편함이 많이 토로 되었지만 보...</td>\n    </tr>\n    <tr>\n      <th>4</th>\n      <td>드래곤 시티 (Dragon City)</td>\n      <td>드래곤ㄷㄹ이 서로서로 독특하게 잘 만들었습니다 그리고 노래소리가 주변 환경과 매우 ...</td>\n      <td>4.7</td>\n      <td>시뮬레이션</td>\n      <td>드래곤이 서로서로 독특하게 만들었습니다 노래소리가 주변 환경과 밀접합니다</td>\n    </tr>\n    <tr>\n      <th>...</th>\n      <td>...</td>\n      <td>...</td>\n      <td>...</td>\n      <td>...</td>\n      <td>...</td>\n    </tr>\n    <tr>\n      <th>94311</th>\n      <td>The Seven Deadly Sins</td>\n      <td>꿀잼</td>\n      <td>&lt;div class=\"pf5lIe\"&gt;&lt;div aria-label=\"별표 5개 만점에...</td>\n      <td>롤플레잉</td>\n      <td>꿀잼</td>\n    </tr>\n    <tr>\n      <th>94312</th>\n      <td>The Seven Deadly Sins</td>\n      <td>굳</td>\n      <td>&lt;div class=\"pf5lIe\"&gt;&lt;div aria-label=\"별표 5개 만점에...</td>\n      <td>롤플레잉</td>\n      <td>NaN</td>\n    </tr>\n    <tr>\n      <th>94313</th>\n      <td>The Seven Deadly Sins</td>\n      <td>Super fun</td>\n      <td>&lt;div class=\"pf5lIe\"&gt;&lt;div aria-label=\"별표 5개 만점에...</td>\n      <td>롤플레잉</td>\n      <td>NaN</td>\n    </tr>\n    <tr>\n      <th>94314</th>\n      <td>The Seven Deadly Sins</td>\n      <td>재미져요</td>\n      <td>&lt;div class=\"pf5lIe\"&gt;&lt;div aria-label=\"별표 5개 만점에...</td>\n      <td>롤플레잉</td>\n      <td>재미져요</td>\n    </tr>\n    <tr>\n      <th>94315</th>\n      <td>The Seven Deadly Sins</td>\n      <td>최고</td>\n      <td>&lt;div class=\"pf5lIe\"&gt;&lt;div aria-label=\"별표 5개 만점에...</td>\n      <td>롤플레잉</td>\n      <td>최고</td>\n    </tr>\n  </tbody>\n</table>\n<p>94316 rows × 5 columns</p>\n</div>"
     },
     "execution_count": 40,
     "metadata": {},
     "output_type": "execute_result"
    }
   ],
   "source": [
    "df = pd.read_csv('./Output/Cleaned_Dataset')\n",
    "df"
   ],
   "metadata": {
    "collapsed": false,
    "pycharm": {
     "name": "#%%\n"
    }
   }
  },
  {
   "cell_type": "code",
   "execution_count": 43,
   "outputs": [
    {
     "ename": "KeyError",
     "evalue": "'scores'",
     "output_type": "error",
     "traceback": [
      "\u001B[1;31m---------------------------------------------------------------------------\u001B[0m",
      "\u001B[1;31mKeyError\u001B[0m                                  Traceback (most recent call last)",
      "\u001B[1;32m~\\AppData\\Roaming\\Python\\Python37\\site-packages\\pandas\\core\\indexes\\base.py\u001B[0m in \u001B[0;36mget_loc\u001B[1;34m(self, key, method, tolerance)\u001B[0m\n\u001B[0;32m   3360\u001B[0m             \u001B[1;32mtry\u001B[0m\u001B[1;33m:\u001B[0m\u001B[1;33m\u001B[0m\u001B[1;33m\u001B[0m\u001B[0m\n\u001B[1;32m-> 3361\u001B[1;33m                 \u001B[1;32mreturn\u001B[0m \u001B[0mself\u001B[0m\u001B[1;33m.\u001B[0m\u001B[0m_engine\u001B[0m\u001B[1;33m.\u001B[0m\u001B[0mget_loc\u001B[0m\u001B[1;33m(\u001B[0m\u001B[0mcasted_key\u001B[0m\u001B[1;33m)\u001B[0m\u001B[1;33m\u001B[0m\u001B[1;33m\u001B[0m\u001B[0m\n\u001B[0m\u001B[0;32m   3362\u001B[0m             \u001B[1;32mexcept\u001B[0m \u001B[0mKeyError\u001B[0m \u001B[1;32mas\u001B[0m \u001B[0merr\u001B[0m\u001B[1;33m:\u001B[0m\u001B[1;33m\u001B[0m\u001B[1;33m\u001B[0m\u001B[0m\n",
      "\u001B[1;32m~\\AppData\\Roaming\\Python\\Python37\\site-packages\\pandas\\_libs\\index.pyx\u001B[0m in \u001B[0;36mpandas._libs.index.IndexEngine.get_loc\u001B[1;34m()\u001B[0m\n",
      "\u001B[1;32m~\\AppData\\Roaming\\Python\\Python37\\site-packages\\pandas\\_libs\\index.pyx\u001B[0m in \u001B[0;36mpandas._libs.index.IndexEngine.get_loc\u001B[1;34m()\u001B[0m\n",
      "\u001B[1;32mpandas\\_libs\\hashtable_class_helper.pxi\u001B[0m in \u001B[0;36mpandas._libs.hashtable.PyObjectHashTable.get_item\u001B[1;34m()\u001B[0m\n",
      "\u001B[1;32mpandas\\_libs\\hashtable_class_helper.pxi\u001B[0m in \u001B[0;36mpandas._libs.hashtable.PyObjectHashTable.get_item\u001B[1;34m()\u001B[0m\n",
      "\u001B[1;31mKeyError\u001B[0m: 'scores'",
      "\nThe above exception was the direct cause of the following exception:\n",
      "\u001B[1;31mKeyError\u001B[0m                                  Traceback (most recent call last)",
      "\u001B[1;32m~\\AppData\\Local\\Temp\\ipykernel_6580\\3261340747.py\u001B[0m in \u001B[0;36m<module>\u001B[1;34m\u001B[0m\n\u001B[0;32m      1\u001B[0m \u001B[0mscores\u001B[0m \u001B[1;33m=\u001B[0m \u001B[1;33m[\u001B[0m\u001B[1;33m]\u001B[0m\u001B[1;33m\u001B[0m\u001B[1;33m\u001B[0m\u001B[0m\n\u001B[0;32m      2\u001B[0m \u001B[1;33m\u001B[0m\u001B[0m\n\u001B[1;32m----> 3\u001B[1;33m \u001B[0mdf\u001B[0m\u001B[1;33m[\u001B[0m\u001B[1;34m'scores'\u001B[0m\u001B[1;33m]\u001B[0m \u001B[1;33m=\u001B[0m \u001B[0mdf\u001B[0m\u001B[1;33m[\u001B[0m\u001B[1;34m'scores'\u001B[0m\u001B[1;33m]\u001B[0m\u001B[1;33m.\u001B[0m\u001B[0mastype\u001B[0m\u001B[1;33m(\u001B[0m\u001B[0mstr\u001B[0m\u001B[1;33m)\u001B[0m\u001B[1;33m\u001B[0m\u001B[1;33m\u001B[0m\u001B[0m\n\u001B[0m\u001B[0;32m      4\u001B[0m \u001B[1;33m\u001B[0m\u001B[0m\n\u001B[0;32m      5\u001B[0m \u001B[1;32mfor\u001B[0m \u001B[0mscore\u001B[0m \u001B[1;32min\u001B[0m \u001B[0mdf\u001B[0m\u001B[1;33m.\u001B[0m\u001B[0mscores\u001B[0m\u001B[1;33m:\u001B[0m\u001B[1;33m\u001B[0m\u001B[1;33m\u001B[0m\u001B[0m\n",
      "\u001B[1;32m~\\AppData\\Roaming\\Python\\Python37\\site-packages\\pandas\\core\\frame.py\u001B[0m in \u001B[0;36m__getitem__\u001B[1;34m(self, key)\u001B[0m\n\u001B[0;32m   3456\u001B[0m             \u001B[1;32mif\u001B[0m \u001B[0mself\u001B[0m\u001B[1;33m.\u001B[0m\u001B[0mcolumns\u001B[0m\u001B[1;33m.\u001B[0m\u001B[0mnlevels\u001B[0m \u001B[1;33m>\u001B[0m \u001B[1;36m1\u001B[0m\u001B[1;33m:\u001B[0m\u001B[1;33m\u001B[0m\u001B[1;33m\u001B[0m\u001B[0m\n\u001B[0;32m   3457\u001B[0m                 \u001B[1;32mreturn\u001B[0m \u001B[0mself\u001B[0m\u001B[1;33m.\u001B[0m\u001B[0m_getitem_multilevel\u001B[0m\u001B[1;33m(\u001B[0m\u001B[0mkey\u001B[0m\u001B[1;33m)\u001B[0m\u001B[1;33m\u001B[0m\u001B[1;33m\u001B[0m\u001B[0m\n\u001B[1;32m-> 3458\u001B[1;33m             \u001B[0mindexer\u001B[0m \u001B[1;33m=\u001B[0m \u001B[0mself\u001B[0m\u001B[1;33m.\u001B[0m\u001B[0mcolumns\u001B[0m\u001B[1;33m.\u001B[0m\u001B[0mget_loc\u001B[0m\u001B[1;33m(\u001B[0m\u001B[0mkey\u001B[0m\u001B[1;33m)\u001B[0m\u001B[1;33m\u001B[0m\u001B[1;33m\u001B[0m\u001B[0m\n\u001B[0m\u001B[0;32m   3459\u001B[0m             \u001B[1;32mif\u001B[0m \u001B[0mis_integer\u001B[0m\u001B[1;33m(\u001B[0m\u001B[0mindexer\u001B[0m\u001B[1;33m)\u001B[0m\u001B[1;33m:\u001B[0m\u001B[1;33m\u001B[0m\u001B[1;33m\u001B[0m\u001B[0m\n\u001B[0;32m   3460\u001B[0m                 \u001B[0mindexer\u001B[0m \u001B[1;33m=\u001B[0m \u001B[1;33m[\u001B[0m\u001B[0mindexer\u001B[0m\u001B[1;33m]\u001B[0m\u001B[1;33m\u001B[0m\u001B[1;33m\u001B[0m\u001B[0m\n",
      "\u001B[1;32m~\\AppData\\Roaming\\Python\\Python37\\site-packages\\pandas\\core\\indexes\\base.py\u001B[0m in \u001B[0;36mget_loc\u001B[1;34m(self, key, method, tolerance)\u001B[0m\n\u001B[0;32m   3361\u001B[0m                 \u001B[1;32mreturn\u001B[0m \u001B[0mself\u001B[0m\u001B[1;33m.\u001B[0m\u001B[0m_engine\u001B[0m\u001B[1;33m.\u001B[0m\u001B[0mget_loc\u001B[0m\u001B[1;33m(\u001B[0m\u001B[0mcasted_key\u001B[0m\u001B[1;33m)\u001B[0m\u001B[1;33m\u001B[0m\u001B[1;33m\u001B[0m\u001B[0m\n\u001B[0;32m   3362\u001B[0m             \u001B[1;32mexcept\u001B[0m \u001B[0mKeyError\u001B[0m \u001B[1;32mas\u001B[0m \u001B[0merr\u001B[0m\u001B[1;33m:\u001B[0m\u001B[1;33m\u001B[0m\u001B[1;33m\u001B[0m\u001B[0m\n\u001B[1;32m-> 3363\u001B[1;33m                 \u001B[1;32mraise\u001B[0m \u001B[0mKeyError\u001B[0m\u001B[1;33m(\u001B[0m\u001B[0mkey\u001B[0m\u001B[1;33m)\u001B[0m \u001B[1;32mfrom\u001B[0m \u001B[0merr\u001B[0m\u001B[1;33m\u001B[0m\u001B[1;33m\u001B[0m\u001B[0m\n\u001B[0m\u001B[0;32m   3364\u001B[0m \u001B[1;33m\u001B[0m\u001B[0m\n\u001B[0;32m   3365\u001B[0m         \u001B[1;32mif\u001B[0m \u001B[0mis_scalar\u001B[0m\u001B[1;33m(\u001B[0m\u001B[0mkey\u001B[0m\u001B[1;33m)\u001B[0m \u001B[1;32mand\u001B[0m \u001B[0misna\u001B[0m\u001B[1;33m(\u001B[0m\u001B[0mkey\u001B[0m\u001B[1;33m)\u001B[0m \u001B[1;32mand\u001B[0m \u001B[1;32mnot\u001B[0m \u001B[0mself\u001B[0m\u001B[1;33m.\u001B[0m\u001B[0mhasnans\u001B[0m\u001B[1;33m:\u001B[0m\u001B[1;33m\u001B[0m\u001B[1;33m\u001B[0m\u001B[0m\n",
      "\u001B[1;31mKeyError\u001B[0m: 'scores'"
     ]
    }
   ],
   "source": [
    "scores = []\n",
    "\n",
    "df['scores'] = df['scores'].astype(str)\n",
    "\n",
    "for score in df.scores:\n",
    "    if len(score) <4:\n",
    "        score = score\n",
    "        scores.append(score)\n",
    "    else :\n",
    "        score = score[47:50]\n",
    "        scores.append(score)\n",
    "df['score'] = scores\n",
    "# print(df['score'].value_counts())\n",
    "df['score'] = df['score'].astype(float)\n",
    "\n",
    "df.info()\n",
    "\n",
    "df= df[['title','reviews','score','genres','cleaned_sentences']]\n",
    "df.to_csv('./DataSets/GameData')"
   ],
   "metadata": {
    "collapsed": false,
    "pycharm": {
     "name": "#%%\n"
    }
   }
  },
  {
   "cell_type": "code",
   "execution_count": 44,
   "outputs": [],
   "source": [
    "df= df[['title','reviews','score','genres','cleaned_sentences']]\n",
    "df"
   ],
   "metadata": {
    "collapsed": false,
    "pycharm": {
     "name": "#%%\n"
    }
   }
  },
  {
   "cell_type": "code",
   "execution_count": 46,
   "outputs": [],
   "source": [
    "df.to_csv('./DataSets/GameData.csv')"
   ],
   "metadata": {
    "collapsed": false,
    "pycharm": {
     "name": "#%%\n"
    }
   }
  },
  {
   "cell_type": "code",
   "execution_count": 47,
   "outputs": [
    {
     "data": {
      "text/plain": "                       title  \\\n0       드래곤 시티 (Dragon City)   \n1       드래곤 시티 (Dragon City)   \n2       드래곤 시티 (Dragon City)   \n3       드래곤 시티 (Dragon City)   \n4       드래곤 시티 (Dragon City)   \n...                      ...   \n94311  The Seven Deadly Sins   \n94312  The Seven Deadly Sins   \n94313  The Seven Deadly Sins   \n94314  The Seven Deadly Sins   \n94315  The Seven Deadly Sins   \n\n                                                 reviews  score genres  \\\n0      지금 초반이라 그런지 이벤트도 진짜 혜자고(최상위 등급 드래곤을 줌) 즐기는데 벽을...    4.7  시뮬레이션   \n1      정말 재밌는데 딱 이 두가지만 고쳐주셨으면 좋겠어요. 1. 일단 부화, 타워 만들기...    4.7  시뮬레이션   \n2      지금은 관계도 없어서 너무 재밌어요 그리고 드래곤 은영아 음식이 나봐 이리 종류는 ...    4.7  시뮬레이션   \n3      이 게임 할 거 없을 때 하면은 언제가 시간이 순삭당라는 게임. 유저들의 불편함이 ...    4.7  시뮬레이션   \n4      드래곤ㄷㄹ이 서로서로 독특하게 잘 만들었습니다 그리고 노래소리가 주변 환경과 매우 ...    4.7  시뮬레이션   \n...                                                  ...    ...    ...   \n94311                                                 꿀잼    4.2   롤플레잉   \n94312                                                  굳    4.2   롤플레잉   \n94313                                          Super fun    4.2   롤플레잉   \n94314                                               재미져요    4.2   롤플레잉   \n94315                                                 최고    4.2   롤플레잉   \n\n                                       cleaned_sentences  \n0      초반이라 그런지 이벤트도 진짜 혜자고최상위 등급 드래곤을 즐기는데 벽을 느낀적은 없...  \n1      재밌는데 두가지만 고쳐주셨으면 좋겠어요 부화 타워 만들기번식 등으로 시간이 오래걸리...  \n2      지금은 관계도 재밌어요 드래곤 은영아 음식이 나봐 이리 종류는 재밌게 커요 여러가지...  \n3      게임 하면은 언제가 시간이 순삭당라는 게임 유저들의 불편함이 많이 토로 되었지만 보...  \n4               드래곤이 서로서로 독특하게 만들었습니다 노래소리가 주변 환경과 밀접합니다  \n...                                                  ...  \n94311                                                 꿀잼  \n94312                                                NaN  \n94313                                                NaN  \n94314                                               재미져요  \n94315                                                 최고  \n\n[94316 rows x 5 columns]",
      "text/html": "<div>\n<style scoped>\n    .dataframe tbody tr th:only-of-type {\n        vertical-align: middle;\n    }\n\n    .dataframe tbody tr th {\n        vertical-align: top;\n    }\n\n    .dataframe thead th {\n        text-align: right;\n    }\n</style>\n<table border=\"1\" class=\"dataframe\">\n  <thead>\n    <tr style=\"text-align: right;\">\n      <th></th>\n      <th>title</th>\n      <th>reviews</th>\n      <th>score</th>\n      <th>genres</th>\n      <th>cleaned_sentences</th>\n    </tr>\n  </thead>\n  <tbody>\n    <tr>\n      <th>0</th>\n      <td>드래곤 시티 (Dragon City)</td>\n      <td>지금 초반이라 그런지 이벤트도 진짜 혜자고(최상위 등급 드래곤을 줌) 즐기는데 벽을...</td>\n      <td>4.7</td>\n      <td>시뮬레이션</td>\n      <td>초반이라 그런지 이벤트도 진짜 혜자고최상위 등급 드래곤을 즐기는데 벽을 느낀적은 없...</td>\n    </tr>\n    <tr>\n      <th>1</th>\n      <td>드래곤 시티 (Dragon City)</td>\n      <td>정말 재밌는데 딱 이 두가지만 고쳐주셨으면 좋겠어요. 1. 일단 부화, 타워 만들기...</td>\n      <td>4.7</td>\n      <td>시뮬레이션</td>\n      <td>재밌는데 두가지만 고쳐주셨으면 좋겠어요 부화 타워 만들기번식 등으로 시간이 오래걸리...</td>\n    </tr>\n    <tr>\n      <th>2</th>\n      <td>드래곤 시티 (Dragon City)</td>\n      <td>지금은 관계도 없어서 너무 재밌어요 그리고 드래곤 은영아 음식이 나봐 이리 종류는 ...</td>\n      <td>4.7</td>\n      <td>시뮬레이션</td>\n      <td>지금은 관계도 재밌어요 드래곤 은영아 음식이 나봐 이리 종류는 재밌게 커요 여러가지...</td>\n    </tr>\n    <tr>\n      <th>3</th>\n      <td>드래곤 시티 (Dragon City)</td>\n      <td>이 게임 할 거 없을 때 하면은 언제가 시간이 순삭당라는 게임. 유저들의 불편함이 ...</td>\n      <td>4.7</td>\n      <td>시뮬레이션</td>\n      <td>게임 하면은 언제가 시간이 순삭당라는 게임 유저들의 불편함이 많이 토로 되었지만 보...</td>\n    </tr>\n    <tr>\n      <th>4</th>\n      <td>드래곤 시티 (Dragon City)</td>\n      <td>드래곤ㄷㄹ이 서로서로 독특하게 잘 만들었습니다 그리고 노래소리가 주변 환경과 매우 ...</td>\n      <td>4.7</td>\n      <td>시뮬레이션</td>\n      <td>드래곤이 서로서로 독특하게 만들었습니다 노래소리가 주변 환경과 밀접합니다</td>\n    </tr>\n    <tr>\n      <th>...</th>\n      <td>...</td>\n      <td>...</td>\n      <td>...</td>\n      <td>...</td>\n      <td>...</td>\n    </tr>\n    <tr>\n      <th>94311</th>\n      <td>The Seven Deadly Sins</td>\n      <td>꿀잼</td>\n      <td>4.2</td>\n      <td>롤플레잉</td>\n      <td>꿀잼</td>\n    </tr>\n    <tr>\n      <th>94312</th>\n      <td>The Seven Deadly Sins</td>\n      <td>굳</td>\n      <td>4.2</td>\n      <td>롤플레잉</td>\n      <td>NaN</td>\n    </tr>\n    <tr>\n      <th>94313</th>\n      <td>The Seven Deadly Sins</td>\n      <td>Super fun</td>\n      <td>4.2</td>\n      <td>롤플레잉</td>\n      <td>NaN</td>\n    </tr>\n    <tr>\n      <th>94314</th>\n      <td>The Seven Deadly Sins</td>\n      <td>재미져요</td>\n      <td>4.2</td>\n      <td>롤플레잉</td>\n      <td>재미져요</td>\n    </tr>\n    <tr>\n      <th>94315</th>\n      <td>The Seven Deadly Sins</td>\n      <td>최고</td>\n      <td>4.2</td>\n      <td>롤플레잉</td>\n      <td>최고</td>\n    </tr>\n  </tbody>\n</table>\n<p>94316 rows × 5 columns</p>\n</div>"
     },
     "execution_count": 47,
     "metadata": {},
     "output_type": "execute_result"
    }
   ],
   "source": [
    "df"
   ],
   "metadata": {
    "collapsed": false,
    "pycharm": {
     "name": "#%%\n"
    }
   }
  },
  {
   "cell_type": "code",
   "execution_count": null,
   "outputs": [],
   "source": [],
   "metadata": {
    "collapsed": false,
    "pycharm": {
     "name": "#%%\n"
    }
   }
  }
 ],
 "metadata": {
  "kernelspec": {
   "display_name": "Python 3",
   "language": "python",
   "name": "python3"
  },
  "language_info": {
   "codemirror_mode": {
    "name": "ipython",
    "version": 2
   },
   "file_extension": ".py",
   "mimetype": "text/x-python",
   "name": "python",
   "nbconvert_exporter": "python",
   "pygments_lexer": "ipython2",
   "version": "2.7.6"
  }
 },
 "nbformat": 4,
 "nbformat_minor": 0
}