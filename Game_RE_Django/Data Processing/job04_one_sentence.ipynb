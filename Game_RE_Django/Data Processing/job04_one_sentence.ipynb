{
 "cells": [
  {
   "cell_type": "code",
   "execution_count": 716,
   "metadata": {
    "collapsed": true
   },
   "outputs": [],
   "source": [
    "import pandas as pd"
   ]
  },
  {
   "cell_type": "code",
   "execution_count": 717,
   "outputs": [
    {
     "name": "stdout",
     "output_type": "stream",
     "text": [
      "<class 'pandas.core.frame.DataFrame'>\n",
      "Int64Index: 78018 entries, 0 to 94234\n",
      "Data columns (total 5 columns):\n",
      " #   Column             Non-Null Count  Dtype  \n",
      "---  ------             --------------  -----  \n",
      " 0   title              78018 non-null  object \n",
      " 1   reviews            78018 non-null  object \n",
      " 2   score              78018 non-null  float64\n",
      " 3   genres             78018 non-null  object \n",
      " 4   cleaned_sentences  78012 non-null  object \n",
      "dtypes: float64(1), object(4)\n",
      "memory usage: 3.6+ MB\n"
     ]
    },
    {
     "data": {
      "text/plain": "                           title  \\\nUnnamed: 0                         \n0           드래곤 시티 (Dragon City)   \n1           드래곤 시티 (Dragon City)   \n2           드래곤 시티 (Dragon City)   \n3           드래곤 시티 (Dragon City)   \n4           드래곤 시티 (Dragon City)   \n\n                                                      reviews  score genres  \\\nUnnamed: 0                                                                    \n0           지금 초반이라 그런지 이벤트도 진짜 혜자고(최상위 등급 드래곤을 줌) 즐기는데 벽을...    4.7  시뮬레이션   \n1           정말 재밌는데 딱 이 두가지만 고쳐주셨으면 좋겠어요. 1. 일단 부화, 타워 만들기...    4.7  시뮬레이션   \n2           지금은 관계도 없어서 너무 재밌어요 그리고 드래곤 은영아 음식이 나봐 이리 종류는 ...    4.7  시뮬레이션   \n3           이 게임 할 거 없을 때 하면은 언제가 시간이 순삭당라는 게임. 유저들의 불편함이 ...    4.7  시뮬레이션   \n4           드래곤ㄷㄹ이 서로서로 독특하게 잘 만들었습니다 그리고 노래소리가 주변 환경과 매우 ...    4.7  시뮬레이션   \n\n                                            cleaned_sentences  \nUnnamed: 0                                                     \n0           초반 그렇다 이벤트 진짜 혜자 최 상위 등급 드래곤 즐기다 벽 느끼다 적다 없다 가...  \n1           재밌다 가지 고치 좋다 부화 타워 만들기 번식 등 시간 걸리다 보석 가속 시키다 순...  \n2            지금 관계도 재밌다 드래곤 은영 음식 나 보다 종류 재밌다 크다 여러가지 드래곤 재밌다  \n3           게임 하다 언제 시간 순삭 게임 유저 불편하다 토로 되어다 보석 이벤트 얻다 시간 ...  \n4                               드래곤 독특하다 만들다 노래 소리 주변 환경 밀접하다  ",
      "text/html": "<div>\n<style scoped>\n    .dataframe tbody tr th:only-of-type {\n        vertical-align: middle;\n    }\n\n    .dataframe tbody tr th {\n        vertical-align: top;\n    }\n\n    .dataframe thead th {\n        text-align: right;\n    }\n</style>\n<table border=\"1\" class=\"dataframe\">\n  <thead>\n    <tr style=\"text-align: right;\">\n      <th></th>\n      <th>title</th>\n      <th>reviews</th>\n      <th>score</th>\n      <th>genres</th>\n      <th>cleaned_sentences</th>\n    </tr>\n    <tr>\n      <th>Unnamed: 0</th>\n      <th></th>\n      <th></th>\n      <th></th>\n      <th></th>\n      <th></th>\n    </tr>\n  </thead>\n  <tbody>\n    <tr>\n      <th>0</th>\n      <td>드래곤 시티 (Dragon City)</td>\n      <td>지금 초반이라 그런지 이벤트도 진짜 혜자고(최상위 등급 드래곤을 줌) 즐기는데 벽을...</td>\n      <td>4.7</td>\n      <td>시뮬레이션</td>\n      <td>초반 그렇다 이벤트 진짜 혜자 최 상위 등급 드래곤 즐기다 벽 느끼다 적다 없다 가...</td>\n    </tr>\n    <tr>\n      <th>1</th>\n      <td>드래곤 시티 (Dragon City)</td>\n      <td>정말 재밌는데 딱 이 두가지만 고쳐주셨으면 좋겠어요. 1. 일단 부화, 타워 만들기...</td>\n      <td>4.7</td>\n      <td>시뮬레이션</td>\n      <td>재밌다 가지 고치 좋다 부화 타워 만들기 번식 등 시간 걸리다 보석 가속 시키다 순...</td>\n    </tr>\n    <tr>\n      <th>2</th>\n      <td>드래곤 시티 (Dragon City)</td>\n      <td>지금은 관계도 없어서 너무 재밌어요 그리고 드래곤 은영아 음식이 나봐 이리 종류는 ...</td>\n      <td>4.7</td>\n      <td>시뮬레이션</td>\n      <td>지금 관계도 재밌다 드래곤 은영 음식 나 보다 종류 재밌다 크다 여러가지 드래곤 재밌다</td>\n    </tr>\n    <tr>\n      <th>3</th>\n      <td>드래곤 시티 (Dragon City)</td>\n      <td>이 게임 할 거 없을 때 하면은 언제가 시간이 순삭당라는 게임. 유저들의 불편함이 ...</td>\n      <td>4.7</td>\n      <td>시뮬레이션</td>\n      <td>게임 하다 언제 시간 순삭 게임 유저 불편하다 토로 되어다 보석 이벤트 얻다 시간 ...</td>\n    </tr>\n    <tr>\n      <th>4</th>\n      <td>드래곤 시티 (Dragon City)</td>\n      <td>드래곤ㄷㄹ이 서로서로 독특하게 잘 만들었습니다 그리고 노래소리가 주변 환경과 매우 ...</td>\n      <td>4.7</td>\n      <td>시뮬레이션</td>\n      <td>드래곤 독특하다 만들다 노래 소리 주변 환경 밀접하다</td>\n    </tr>\n  </tbody>\n</table>\n</div>"
     },
     "execution_count": 717,
     "metadata": {},
     "output_type": "execute_result"
    }
   ],
   "source": [
    "df = pd.read_csv('./DataSets/GameData.csv',index_col=0)\n",
    "df.duplicated().sum()\n",
    "df.drop_duplicates(inplace=True)\n",
    "df.info()\n",
    "df.head(5)"
   ],
   "metadata": {
    "collapsed": false,
    "pycharm": {
     "name": "#%%\n"
    }
   }
  },
  {
   "cell_type": "code",
   "execution_count": 718,
   "outputs": [],
   "source": [
    "# one_sentences = []\n",
    "# genres = []\n",
    "# scores = []\n",
    "# titles= []\n",
    "# for title in df['title'].unique():\n",
    "#     temp = df[df['title']==title]\n",
    "#\n",
    "#     cleaned_sentences = temp['cleaned_sentences'].astype(str)\n",
    "#     one_sentence = ' ' .join(cleaned_sentences)\n",
    "# #\n"
   ],
   "metadata": {
    "collapsed": false,
    "pycharm": {
     "name": "#%%\n"
    }
   }
  },
  {
   "cell_type": "code",
   "execution_count": 719,
   "outputs": [],
   "source": [
    "# one_sentences = []\n",
    "# for title in df['title'].unique():\n",
    "#     temp = df[df['title']==title]\n",
    "#     # print(temp.head())\n",
    "#     # exit()\n",
    "#     cleaned_sentences = temp['cleaned_sentences'].astype(str)\n",
    "#     one_sentence = ' ' .join(cleaned_sentences)\n",
    "#     one_sentences.append(one_sentence)\n"
   ],
   "metadata": {
    "collapsed": false,
    "pycharm": {
     "name": "#%%\n"
    }
   }
  },
  {
   "cell_type": "code",
   "execution_count": 720,
   "outputs": [],
   "source": [
    "one_sentences = []\n",
    "genres = []\n",
    "scores = []\n",
    "titles = []\n",
    "for title in df['title'].unique():\n",
    "    temp = df[df['title'] == title]\n",
    "\n",
    "    cleaned_sentences = temp['cleaned_sentences'].astype(str)\n",
    "    one_sentence = ' ' .join(cleaned_sentences)\n",
    "    one_sentences.append(one_sentence)\n",
    "\n",
    "    clened_genres = temp['genres'].astype(str)\n",
    "    genre = ' ' .join(clened_genres)\n",
    "    genres.append(genre)\n",
    "\n",
    "    clened_scores = temp['score'].astype(str)\n",
    "    score = ' ' .join(clened_scores)\n",
    "    scores.append(score)\n",
    "\n"
   ],
   "metadata": {
    "collapsed": false,
    "pycharm": {
     "name": "#%%\n"
    }
   }
  },
  {
   "cell_type": "code",
   "execution_count": 721,
   "outputs": [
    {
     "name": "stdout",
     "output_type": "stream",
     "text": [
      "567\n",
      "567\n"
     ]
    }
   ],
   "source": [
    "result_genre = []\n",
    "for i in range(0, len(genres)):\n",
    "    genres_all = genres[i].split(' ')\n",
    "    genre = genres_all[0]\n",
    "\n",
    "    result_genre.append(genre)\n",
    "print(len(result_genre))\n",
    "\n",
    "result_score =[]\n",
    "for i in range(0,len(scores)):\n",
    "    score = scores[i][0:3]\n",
    "    result_score.append(score)\n",
    "    # a =a[0:3]\n",
    "print(len(result_score))\n"
   ],
   "metadata": {
    "collapsed": false,
    "pycharm": {
     "name": "#%%\n"
    }
   }
  },
  {
   "cell_type": "code",
   "execution_count": 721,
   "outputs": [],
   "source": [],
   "metadata": {
    "collapsed": false,
    "pycharm": {
     "name": "#%%\n"
    }
   }
  },
  {
   "cell_type": "code",
   "execution_count": 722,
   "outputs": [
    {
     "name": "stdout",
     "output_type": "stream",
     "text": [
      "567\n",
      "567\n",
      "567\n",
      "우도쿠, Woodoku                     482\n",
      "Roblox                           251\n",
      "Toca Life World                  249\n",
      "Candy Crush Saga                 245\n",
      "Evony: The King's Return         242\n",
      "                                ... \n",
      "Money Race 3D                      1\n",
      "Bitcoin Cut Master                 1\n",
      "Brain Find: Tricky DOP Puzzle      1\n",
      "Soccer Runner                      1\n",
      "Gin Rummy Stars - Card Game        1\n",
      "Name: title, Length: 567, dtype: int64\n"
     ]
    }
   ],
   "source": [
    "print(len(result_score))\n",
    "print(len(result_genre))\n",
    "print(len(one_sentences))\n",
    "print(df['title'].value_counts())"
   ],
   "metadata": {
    "collapsed": false,
    "pycharm": {
     "name": "#%%\n"
    }
   }
  },
  {
   "cell_type": "code",
   "execution_count": 723,
   "outputs": [],
   "source": [
    "\n",
    "\n",
    "\n",
    "\n",
    "\n",
    "\n",
    "df_one_sentences = pd.DataFrame( {\"title\":df[\"title\"].unique() , 'reviews':one_sentences,\n",
    "                                  'genres':result_genre, 'scores':result_score})\n",
    "df_one_sentences\n",
    "# print(df_one_sentences.head())\n",
    "df_one_sentences.to_csv('./Output/GameData.csv',index=False,encoding=\"utf-8-sig\")\n",
    "\n",
    "# print(df_one_sentences.info())"
   ],
   "metadata": {
    "collapsed": false,
    "pycharm": {
     "name": "#%%\n"
    }
   }
  },
  {
   "cell_type": "code",
   "execution_count": 724,
   "outputs": [
    {
     "data": {
      "text/plain": "                           title  \\\n0           드래곤 시티 (Dragon City)   \n1                 Subway Surfers   \n2                      클래시 오브 클랜   \n3                          브롤스타즈   \n4          Yu-Gi-Oh! Master Duel   \n..                           ...   \n562    Choices: Stories You Play   \n563        쿠킹 매드니스 - 셰프의 레스토랑 게임   \n564                         MIR4   \n565         Jurassic World Alive   \n566  Gin Rummy Stars - Card Game   \n\n                                               reviews genres  scores  \n0    초반 그렇다 이벤트 진짜 혜자 최 상위 등급 드래곤 즐기다 벽 느끼다 적다 없다 가...  시뮬레이션     4.7  \n1    간단하다 심플 조작 누구 쉬 접 하다 스코어 랭킹 나 높다 유저 따라잡다 맛 다양하...   아케이드     4.6  \n2    게임 전투 하다 자신 마을 키우다 전략 겜 억이 넘다 다운로드 수가 증명 듯 전통 ...     전략     4.6  \n3    게임 장점 단점 말씀드리다 장점 여러가지 개성 있다 브 롤러 얻다 원하다 브 롤러 ...     액션     4.2  \n4    과금 않다 충분하다 티어 덱 꾸리 게임 점 좋다 부족하다 부분 많다 랭크 시스템 랭...     카드     4.2  \n..                                                 ...    ...     ...  \n562  스토리 재미있다 좋다 욥 한국어 버전 있다 좋다 고르다 때 내다 있다 그거 얻다 방...  시뮬레이션     4.4  \n563  요리 게임 찾다 다운로드 수평 좋다 다운 받다 보다 재밌다 플레이 이해 하다 쉬 그...   아케이드     4.7  \n564  도대체 버그 쓰다 잡 건가 순간이동 벽속 숨다 공격 공격 업다 전투력 낮다 유저 순...   롤플레잉     3.9  \n565  거 공룡 마 추다 재미있다 좋다 한국 출시 해주다 하다 한국어 패치 되다 좋다 같다...   어드벤처     4.3  \n566                                          깔끔하다 재미 남     카드     4.7  \n\n[567 rows x 4 columns]",
      "text/html": "<div>\n<style scoped>\n    .dataframe tbody tr th:only-of-type {\n        vertical-align: middle;\n    }\n\n    .dataframe tbody tr th {\n        vertical-align: top;\n    }\n\n    .dataframe thead th {\n        text-align: right;\n    }\n</style>\n<table border=\"1\" class=\"dataframe\">\n  <thead>\n    <tr style=\"text-align: right;\">\n      <th></th>\n      <th>title</th>\n      <th>reviews</th>\n      <th>genres</th>\n      <th>scores</th>\n    </tr>\n  </thead>\n  <tbody>\n    <tr>\n      <th>0</th>\n      <td>드래곤 시티 (Dragon City)</td>\n      <td>초반 그렇다 이벤트 진짜 혜자 최 상위 등급 드래곤 즐기다 벽 느끼다 적다 없다 가...</td>\n      <td>시뮬레이션</td>\n      <td>4.7</td>\n    </tr>\n    <tr>\n      <th>1</th>\n      <td>Subway Surfers</td>\n      <td>간단하다 심플 조작 누구 쉬 접 하다 스코어 랭킹 나 높다 유저 따라잡다 맛 다양하...</td>\n      <td>아케이드</td>\n      <td>4.6</td>\n    </tr>\n    <tr>\n      <th>2</th>\n      <td>클래시 오브 클랜</td>\n      <td>게임 전투 하다 자신 마을 키우다 전략 겜 억이 넘다 다운로드 수가 증명 듯 전통 ...</td>\n      <td>전략</td>\n      <td>4.6</td>\n    </tr>\n    <tr>\n      <th>3</th>\n      <td>브롤스타즈</td>\n      <td>게임 장점 단점 말씀드리다 장점 여러가지 개성 있다 브 롤러 얻다 원하다 브 롤러 ...</td>\n      <td>액션</td>\n      <td>4.2</td>\n    </tr>\n    <tr>\n      <th>4</th>\n      <td>Yu-Gi-Oh! Master Duel</td>\n      <td>과금 않다 충분하다 티어 덱 꾸리 게임 점 좋다 부족하다 부분 많다 랭크 시스템 랭...</td>\n      <td>카드</td>\n      <td>4.2</td>\n    </tr>\n    <tr>\n      <th>...</th>\n      <td>...</td>\n      <td>...</td>\n      <td>...</td>\n      <td>...</td>\n    </tr>\n    <tr>\n      <th>562</th>\n      <td>Choices: Stories You Play</td>\n      <td>스토리 재미있다 좋다 욥 한국어 버전 있다 좋다 고르다 때 내다 있다 그거 얻다 방...</td>\n      <td>시뮬레이션</td>\n      <td>4.4</td>\n    </tr>\n    <tr>\n      <th>563</th>\n      <td>쿠킹 매드니스 - 셰프의 레스토랑 게임</td>\n      <td>요리 게임 찾다 다운로드 수평 좋다 다운 받다 보다 재밌다 플레이 이해 하다 쉬 그...</td>\n      <td>아케이드</td>\n      <td>4.7</td>\n    </tr>\n    <tr>\n      <th>564</th>\n      <td>MIR4</td>\n      <td>도대체 버그 쓰다 잡 건가 순간이동 벽속 숨다 공격 공격 업다 전투력 낮다 유저 순...</td>\n      <td>롤플레잉</td>\n      <td>3.9</td>\n    </tr>\n    <tr>\n      <th>565</th>\n      <td>Jurassic World Alive</td>\n      <td>거 공룡 마 추다 재미있다 좋다 한국 출시 해주다 하다 한국어 패치 되다 좋다 같다...</td>\n      <td>어드벤처</td>\n      <td>4.3</td>\n    </tr>\n    <tr>\n      <th>566</th>\n      <td>Gin Rummy Stars - Card Game</td>\n      <td>깔끔하다 재미 남</td>\n      <td>카드</td>\n      <td>4.7</td>\n    </tr>\n  </tbody>\n</table>\n<p>567 rows × 4 columns</p>\n</div>"
     },
     "execution_count": 724,
     "metadata": {},
     "output_type": "execute_result"
    }
   ],
   "source": [
    "df = pd.read_csv('./Output/GameData.csv')\n",
    "df"
   ],
   "metadata": {
    "collapsed": false,
    "pycharm": {
     "name": "#%%\n"
    }
   }
  },
  {
   "cell_type": "code",
   "execution_count": 724,
   "outputs": [],
   "source": [],
   "metadata": {
    "collapsed": false,
    "pycharm": {
     "name": "#%%\n"
    }
   }
  }
 ],
 "metadata": {
  "kernelspec": {
   "display_name": "Python 3",
   "language": "python",
   "name": "python3"
  },
  "language_info": {
   "codemirror_mode": {
    "name": "ipython",
    "version": 2
   },
   "file_extension": ".py",
   "mimetype": "text/x-python",
   "name": "python",
   "nbconvert_exporter": "python",
   "pygments_lexer": "ipython2",
   "version": "2.7.6"
  }
 },
 "nbformat": 4,
 "nbformat_minor": 0
}