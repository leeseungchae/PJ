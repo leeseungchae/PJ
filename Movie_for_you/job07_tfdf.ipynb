{
 "cells": [
  {
   "cell_type": "code",
   "execution_count": 41,
   "metadata": {
    "collapsed": true
   },
   "outputs": [],
   "source": [
    "import pandas as pd\n",
    "from sklearn.feature_extraction.text import  TfidfVectorizer\n",
    "from scipy.io import mmwrite, mmread\n",
    "import pickle"
   ]
  },
  {
   "cell_type": "code",
   "execution_count": 42,
   "outputs": [
    {
     "name": "stdout",
     "output_type": "stream",
     "text": [
      "<class 'pandas.core.frame.DataFrame'>\n",
      "RangeIndex: 2007 entries, 0 to 2006\n",
      "Data columns (total 2 columns):\n",
      " #   Column             Non-Null Count  Dtype \n",
      "---  ------             --------------  ----- \n",
      " 0   title              2007 non-null   object\n",
      " 1   cleaned_sentences  2007 non-null   object\n",
      "dtypes: object(2)\n",
      "memory usage: 31.5+ KB\n"
     ]
    },
    {
     "data": {
      "text/plain": "               title                                  cleaned_sentences\n0             12 솔져스  니콜라이 퓰시 크리스 헴스워스 마이클 섀넌 마이클 윌리암 피츠너 전문가 로튼토마토 ...\n1             120BPM  억울하다 본의 에이즈 걸리다 난리 치다 이해 동성애자 에이즈 환자 어떻다 앞뒤 쾌락...\n2               12피트  안녕하다 케이론 피트 개인 호기심 자극 소재 소재 소재 어가 상황 설정 황당하다 부...\n3            1991  봄  권경원 강기훈 살다 다루다 국가 예의 상영 할떄 부족하다 모르다 느낌 부족하다 얘기...\n4               1급기밀  페미니스트 특징 아무렇다 특정하다 남자 악역 묘사 페미니즘 아무렇다 여성 바보 묘사...\n...              ...                                                ...\n2002           해탄적일천  일천 년작 에드워드 호인 피아니스트 칭칭 장애 가리다 가리다 남편 실종 사건 하루 ...\n2003      행복의 나라(가제)  배급사 따르다 조정석 행복 나라 확정 행복 나라 공개 알려지다 대사 흔들다 사건 말...\n2004  행성충돌: 지구 최후의 날  무려 별똥별 여러 떨어지다 우주 예정 돼다 매스컴 호들갑 뜨다 시작 보통 유성은 새...\n2005              효자  효자 훈국 연운경 김뢰하 이철민 정경호 박효준 전운 안민영 대한민국 스크린 수도 적...\n2006          휴먼 보이스  휴먼 보이스 페드로 모도 바르다 틸다 스윈튼 스페인 영상 짜다 기다 실제 러닝 타임...\n\n[2007 rows x 2 columns]",
      "text/html": "<div>\n<style scoped>\n    .dataframe tbody tr th:only-of-type {\n        vertical-align: middle;\n    }\n\n    .dataframe tbody tr th {\n        vertical-align: top;\n    }\n\n    .dataframe thead th {\n        text-align: right;\n    }\n</style>\n<table border=\"1\" class=\"dataframe\">\n  <thead>\n    <tr style=\"text-align: right;\">\n      <th></th>\n      <th>title</th>\n      <th>cleaned_sentences</th>\n    </tr>\n  </thead>\n  <tbody>\n    <tr>\n      <th>0</th>\n      <td>12 솔져스</td>\n      <td>니콜라이 퓰시 크리스 헴스워스 마이클 섀넌 마이클 윌리암 피츠너 전문가 로튼토마토 ...</td>\n    </tr>\n    <tr>\n      <th>1</th>\n      <td>120BPM</td>\n      <td>억울하다 본의 에이즈 걸리다 난리 치다 이해 동성애자 에이즈 환자 어떻다 앞뒤 쾌락...</td>\n    </tr>\n    <tr>\n      <th>2</th>\n      <td>12피트</td>\n      <td>안녕하다 케이론 피트 개인 호기심 자극 소재 소재 소재 어가 상황 설정 황당하다 부...</td>\n    </tr>\n    <tr>\n      <th>3</th>\n      <td>1991  봄</td>\n      <td>권경원 강기훈 살다 다루다 국가 예의 상영 할떄 부족하다 모르다 느낌 부족하다 얘기...</td>\n    </tr>\n    <tr>\n      <th>4</th>\n      <td>1급기밀</td>\n      <td>페미니스트 특징 아무렇다 특정하다 남자 악역 묘사 페미니즘 아무렇다 여성 바보 묘사...</td>\n    </tr>\n    <tr>\n      <th>...</th>\n      <td>...</td>\n      <td>...</td>\n    </tr>\n    <tr>\n      <th>2002</th>\n      <td>해탄적일천</td>\n      <td>일천 년작 에드워드 호인 피아니스트 칭칭 장애 가리다 가리다 남편 실종 사건 하루 ...</td>\n    </tr>\n    <tr>\n      <th>2003</th>\n      <td>행복의 나라(가제)</td>\n      <td>배급사 따르다 조정석 행복 나라 확정 행복 나라 공개 알려지다 대사 흔들다 사건 말...</td>\n    </tr>\n    <tr>\n      <th>2004</th>\n      <td>행성충돌: 지구 최후의 날</td>\n      <td>무려 별똥별 여러 떨어지다 우주 예정 돼다 매스컴 호들갑 뜨다 시작 보통 유성은 새...</td>\n    </tr>\n    <tr>\n      <th>2005</th>\n      <td>효자</td>\n      <td>효자 훈국 연운경 김뢰하 이철민 정경호 박효준 전운 안민영 대한민국 스크린 수도 적...</td>\n    </tr>\n    <tr>\n      <th>2006</th>\n      <td>휴먼 보이스</td>\n      <td>휴먼 보이스 페드로 모도 바르다 틸다 스윈튼 스페인 영상 짜다 기다 실제 러닝 타임...</td>\n    </tr>\n  </tbody>\n</table>\n<p>2007 rows × 2 columns</p>\n</div>"
     },
     "execution_count": 42,
     "metadata": {},
     "output_type": "execute_result"
    }
   ],
   "source": [
    "df_reviews = pd.read_csv('./datasets/movie_review_2018_2022.csv')\n",
    "df_reviews.info()\n",
    "df_reviews.dropna(inplace=True)\n",
    "df_reviews"
   ],
   "metadata": {
    "collapsed": false,
    "pycharm": {
     "name": "#%%\n"
    }
   }
  },
  {
   "cell_type": "code",
   "execution_count": 43,
   "outputs": [],
   "source": [
    "Tfidf = TfidfVectorizer(sublinear_tf=True)\n",
    "Tfidf_matrix = Tfidf.fit_transform(df_reviews['cleaned_sentences'])\n",
    "\n",
    "with open('./models/tfidf.pickle','wb') as f:\n",
    "    pickle.dump(Tfidf , f)\n",
    "mmwrite('./models/Tfidf_movie_review_mtx', Tfidf_matrix)"
   ],
   "metadata": {
    "collapsed": false,
    "pycharm": {
     "name": "#%%\n"
    }
   }
  },
  {
   "cell_type": "code",
   "execution_count": 43,
   "outputs": [],
   "source": [],
   "metadata": {
    "collapsed": false,
    "pycharm": {
     "name": "#%%\n"
    }
   }
  }
 ],
 "metadata": {
  "kernelspec": {
   "display_name": "Python 3",
   "language": "python",
   "name": "python3"
  },
  "language_info": {
   "codemirror_mode": {
    "name": "ipython",
    "version": 2
   },
   "file_extension": ".py",
   "mimetype": "text/x-python",
   "name": "python",
   "nbconvert_exporter": "python",
   "pygments_lexer": "ipython2",
   "version": "2.7.6"
  }
 },
 "nbformat": 4,
 "nbformat_minor": 0
}