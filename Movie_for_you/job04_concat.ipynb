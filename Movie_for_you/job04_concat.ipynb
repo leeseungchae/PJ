{
 "cells": [
  {
   "cell_type": "code",
   "execution_count": 1,
   "metadata": {
    "collapsed": true
   },
   "outputs": [],
   "source": [
    "import pandas as pd\n",
    "import glob"
   ]
  },
  {
   "cell_type": "code",
   "execution_count": null,
   "outputs": [],
   "source": [
    "data_paths = glob.glob('./data2/*')\n",
    "print(data_paths)\n",
    "df = pd.DataFrame()\n",
    "for path in data_paths[1:]:\n",
    "    df_temp = pd.read_csv(path, index_col=0)\n",
    "    df = pd.concat([df, df_temp], ignore_index=True,\n",
    "              axis='rows')\n",
    "df_temp = pd.read_csv(data_paths[0])\n",
    "df = pd.concat([df, df_temp], ignore_index=True,\n",
    "              axis='rows')\n",
    "df.info()\n",
    "df\n",
    "df.to_csv('./data/musicdata.csv',encoding=\"utf-8-sig\",\n",
    "          index=False)"
   ],
   "metadata": {
    "collapsed": false,
    "pycharm": {
     "name": "#%%\n"
    }
   }
  }
 ],
 "metadata": {
  "kernelspec": {
   "display_name": "Python 3",
   "language": "python",
   "name": "python3"
  },
  "language_info": {
   "codemirror_mode": {
    "name": "ipython",
    "version": 2
   },
   "file_extension": ".py",
   "mimetype": "text/x-python",
   "name": "python",
   "nbconvert_exporter": "python",
   "pygments_lexer": "ipython2",
   "version": "2.7.6"
  }
 },
 "nbformat": 4,
 "nbformat_minor": 0
}