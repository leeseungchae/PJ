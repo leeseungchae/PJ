{
 "cells": [
  {
   "cell_type": "code",
   "execution_count": 13,
   "metadata": {
    "collapsed": true
   },
   "outputs": [],
   "source": [
    "import pandas as pd"
   ]
  },
  {
   "cell_type": "code",
   "execution_count": 14,
   "outputs": [
    {
     "name": "stdout",
     "output_type": "stream",
     "text": [
      "<class 'pandas.core.frame.DataFrame'>\n",
      "Int64Index: 2595 entries, 0 to 2819\n",
      "Data columns (total 2 columns):\n",
      " #   Column             Non-Null Count  Dtype \n",
      "---  ------             --------------  ----- \n",
      " 0   title              2595 non-null   object\n",
      " 1   cleaned_sentences  2595 non-null   object\n",
      "dtypes: object(2)\n",
      "memory usage: 60.8+ KB\n"
     ]
    }
   ],
   "source": [
    "df = pd.read_csv('./crawling_data/cleaned_reviews_2019_21_43.csv')\n",
    "df.duplicated().sum()\n",
    "df.drop_duplicates(inplace=True)\n",
    "df.info()"
   ],
   "metadata": {
    "collapsed": false,
    "pycharm": {
     "name": "#%%\n"
    }
   }
  },
  {
   "cell_type": "code",
   "execution_count": 14,
   "outputs": [],
   "source": [],
   "metadata": {
    "collapsed": false,
    "pycharm": {
     "name": "#%%\n"
    }
   }
  },
  {
   "cell_type": "code",
   "execution_count": 15,
   "outputs": [
    {
     "name": "stdout",
     "output_type": "stream",
     "text": [
      "                title                                  cleaned_sentences\n",
      "0                  선물  영화 선물 주연 신하균 수호 김슬기 유수빈 월일 개봉 감독 허진호 영화 분도 안되다...\n",
      "1              선희와 슬기  영화 선희 슬기 시사회 보다 예고편 여주 선희 거짓말 때문 벌어지다 이야기 보이다 ...\n",
      "2          세상을 바꾼 변호인  주의 글 스포 담다 있다 필자 영화 리뷰 하다 이전 제목 고민 해보다 왜 제목 이다...\n",
      "3    소피와 드래곤: 마법책의 비밀  애니메이션 피 드래곤 시사회 초대권 장 드리다 애니메이션 피 드래곤 시사회 초대권 ...\n",
      "4        소희의은근히꼴리는사생활  소희 은근 꼴리다 사생활 감독 김이슬 출연 안소희 민 도윤 개봉 대한민국 평점 리뷰...\n",
      "..                ...                                                ...\n",
      "201   체 게바라: 1부 아르헨티나  제국주의 대항 인물 비치 게바라 영화 것 관심 간다 영화 초기 장면 게바라 향 하다...\n",
      "202     체 게바라: 2부 게릴라  이상 영화 여운 생각 남다 그 기체 볼리비아 다이어리 바탕 충실하다 레알 다큐 보여...\n",
      "203             체인지오버  부천 영화제 관람 작 체인지 오버 뉴질랜드 장르 영화 미란다 코트 스튜어트 매켄지 ...\n",
      "204            체크 히어로  남아 여 재미있다 적극 추천 하다 말 하다 캐릭터 솜 뭉치 봉제 인형 체크 히어로 ...\n",
      "205       출동! 도토리 구조대  숲 지키다 출동 도토리 구조대 개봉 앞두다 특별하다 오늘 행복 가득하다 꽃 돼지 블...\n",
      "\n",
      "[206 rows x 2 columns]\n"
     ]
    }
   ],
   "source": [
    "one_sentences = []\n",
    "for title in df['title'].unique():\n",
    "    temp = df[df['title']==title]\n",
    "    temp = temp['cleaned_sentences']\n",
    "    one_sentence = ' ' .join(temp)\n",
    "    one_sentences.append(one_sentence)\n",
    "df_one_sentences = pd.DataFrame( {\"title\":df[\"title\"].unique() , 'cleaned_sentences':one_sentences})\n",
    "print(df_one_sentences)\n",
    "df_one_sentences.to_csv('./crawling_data/movie_reviews_onesentence_2019_21_43.csv',index=False)\n",
    "\n"
   ],
   "metadata": {
    "collapsed": false,
    "pycharm": {
     "name": "#%%\n"
    }
   }
  },
  {
   "cell_type": "code",
   "execution_count": 16,
   "outputs": [
    {
     "data": {
      "text/plain": "                title                                  cleaned_sentences\n0                  선물  영화 선물 주연 신하균 수호 김슬기 유수빈 월일 개봉 감독 허진호 영화 분도 안되다...\n1              선희와 슬기  영화 선희 슬기 시사회 보다 예고편 여주 선희 거짓말 때문 벌어지다 이야기 보이다 ...\n2          세상을 바꾼 변호인  주의 글 스포 담다 있다 필자 영화 리뷰 하다 이전 제목 고민 해보다 왜 제목 이다...\n3    소피와 드래곤: 마법책의 비밀  애니메이션 피 드래곤 시사회 초대권 장 드리다 애니메이션 피 드래곤 시사회 초대권 ...\n4        소희의은근히꼴리는사생활  소희 은근 꼴리다 사생활 감독 김이슬 출연 안소희 민 도윤 개봉 대한민국 평점 리뷰...\n..                ...                                                ...\n201   체 게바라: 1부 아르헨티나  제국주의 대항 인물 비치 게바라 영화 것 관심 간다 영화 초기 장면 게바라 향 하다...\n202     체 게바라: 2부 게릴라  이상 영화 여운 생각 남다 그 기체 볼리비아 다이어리 바탕 충실하다 레알 다큐 보여...\n203             체인지오버  부천 영화제 관람 작 체인지 오버 뉴질랜드 장르 영화 미란다 코트 스튜어트 매켄지 ...\n204            체크 히어로  남아 여 재미있다 적극 추천 하다 말 하다 캐릭터 솜 뭉치 봉제 인형 체크 히어로 ...\n205       출동! 도토리 구조대  숲 지키다 출동 도토리 구조대 개봉 앞두다 특별하다 오늘 행복 가득하다 꽃 돼지 블...\n\n[206 rows x 2 columns]",
      "text/html": "<div>\n<style scoped>\n    .dataframe tbody tr th:only-of-type {\n        vertical-align: middle;\n    }\n\n    .dataframe tbody tr th {\n        vertical-align: top;\n    }\n\n    .dataframe thead th {\n        text-align: right;\n    }\n</style>\n<table border=\"1\" class=\"dataframe\">\n  <thead>\n    <tr style=\"text-align: right;\">\n      <th></th>\n      <th>title</th>\n      <th>cleaned_sentences</th>\n    </tr>\n  </thead>\n  <tbody>\n    <tr>\n      <th>0</th>\n      <td>선물</td>\n      <td>영화 선물 주연 신하균 수호 김슬기 유수빈 월일 개봉 감독 허진호 영화 분도 안되다...</td>\n    </tr>\n    <tr>\n      <th>1</th>\n      <td>선희와 슬기</td>\n      <td>영화 선희 슬기 시사회 보다 예고편 여주 선희 거짓말 때문 벌어지다 이야기 보이다 ...</td>\n    </tr>\n    <tr>\n      <th>2</th>\n      <td>세상을 바꾼 변호인</td>\n      <td>주의 글 스포 담다 있다 필자 영화 리뷰 하다 이전 제목 고민 해보다 왜 제목 이다...</td>\n    </tr>\n    <tr>\n      <th>3</th>\n      <td>소피와 드래곤: 마법책의 비밀</td>\n      <td>애니메이션 피 드래곤 시사회 초대권 장 드리다 애니메이션 피 드래곤 시사회 초대권 ...</td>\n    </tr>\n    <tr>\n      <th>4</th>\n      <td>소희의은근히꼴리는사생활</td>\n      <td>소희 은근 꼴리다 사생활 감독 김이슬 출연 안소희 민 도윤 개봉 대한민국 평점 리뷰...</td>\n    </tr>\n    <tr>\n      <th>...</th>\n      <td>...</td>\n      <td>...</td>\n    </tr>\n    <tr>\n      <th>201</th>\n      <td>체 게바라: 1부 아르헨티나</td>\n      <td>제국주의 대항 인물 비치 게바라 영화 것 관심 간다 영화 초기 장면 게바라 향 하다...</td>\n    </tr>\n    <tr>\n      <th>202</th>\n      <td>체 게바라: 2부 게릴라</td>\n      <td>이상 영화 여운 생각 남다 그 기체 볼리비아 다이어리 바탕 충실하다 레알 다큐 보여...</td>\n    </tr>\n    <tr>\n      <th>203</th>\n      <td>체인지오버</td>\n      <td>부천 영화제 관람 작 체인지 오버 뉴질랜드 장르 영화 미란다 코트 스튜어트 매켄지 ...</td>\n    </tr>\n    <tr>\n      <th>204</th>\n      <td>체크 히어로</td>\n      <td>남아 여 재미있다 적극 추천 하다 말 하다 캐릭터 솜 뭉치 봉제 인형 체크 히어로 ...</td>\n    </tr>\n    <tr>\n      <th>205</th>\n      <td>출동! 도토리 구조대</td>\n      <td>숲 지키다 출동 도토리 구조대 개봉 앞두다 특별하다 오늘 행복 가득하다 꽃 돼지 블...</td>\n    </tr>\n  </tbody>\n</table>\n<p>206 rows × 2 columns</p>\n</div>"
     },
     "execution_count": 16,
     "metadata": {},
     "output_type": "execute_result"
    }
   ],
   "source": [
    "df_one_sentences"
   ],
   "metadata": {
    "collapsed": false,
    "pycharm": {
     "name": "#%%\n"
    }
   }
  },
  {
   "cell_type": "code",
   "execution_count": 17,
   "outputs": [
    {
     "data": {
      "text/plain": "                title                                  cleaned_sentences\n0                  선물  영화 선물 주연 신하균 수호 김슬기 유수빈 월일 개봉 감독 허진호 영화 분도 안되다...\n1              선희와 슬기  영화 선희 슬기 시사회 보다 예고편 여주 선희 거짓말 때문 벌어지다 이야기 보이다 ...\n2          세상을 바꾼 변호인  주의 글 스포 담다 있다 필자 영화 리뷰 하다 이전 제목 고민 해보다 왜 제목 이다...\n3    소피와 드래곤: 마법책의 비밀  애니메이션 피 드래곤 시사회 초대권 장 드리다 애니메이션 피 드래곤 시사회 초대권 ...\n4        소희의은근히꼴리는사생활  소희 은근 꼴리다 사생활 감독 김이슬 출연 안소희 민 도윤 개봉 대한민국 평점 리뷰...\n..                ...                                                ...\n201   체 게바라: 1부 아르헨티나  제국주의 대항 인물 비치 게바라 영화 것 관심 간다 영화 초기 장면 게바라 향 하다...\n202     체 게바라: 2부 게릴라  이상 영화 여운 생각 남다 그 기체 볼리비아 다이어리 바탕 충실하다 레알 다큐 보여...\n203             체인지오버  부천 영화제 관람 작 체인지 오버 뉴질랜드 장르 영화 미란다 코트 스튜어트 매켄지 ...\n204            체크 히어로  남아 여 재미있다 적극 추천 하다 말 하다 캐릭터 솜 뭉치 봉제 인형 체크 히어로 ...\n205       출동! 도토리 구조대  숲 지키다 출동 도토리 구조대 개봉 앞두다 특별하다 오늘 행복 가득하다 꽃 돼지 블...\n\n[206 rows x 2 columns]",
      "text/html": "<div>\n<style scoped>\n    .dataframe tbody tr th:only-of-type {\n        vertical-align: middle;\n    }\n\n    .dataframe tbody tr th {\n        vertical-align: top;\n    }\n\n    .dataframe thead th {\n        text-align: right;\n    }\n</style>\n<table border=\"1\" class=\"dataframe\">\n  <thead>\n    <tr style=\"text-align: right;\">\n      <th></th>\n      <th>title</th>\n      <th>cleaned_sentences</th>\n    </tr>\n  </thead>\n  <tbody>\n    <tr>\n      <th>0</th>\n      <td>선물</td>\n      <td>영화 선물 주연 신하균 수호 김슬기 유수빈 월일 개봉 감독 허진호 영화 분도 안되다...</td>\n    </tr>\n    <tr>\n      <th>1</th>\n      <td>선희와 슬기</td>\n      <td>영화 선희 슬기 시사회 보다 예고편 여주 선희 거짓말 때문 벌어지다 이야기 보이다 ...</td>\n    </tr>\n    <tr>\n      <th>2</th>\n      <td>세상을 바꾼 변호인</td>\n      <td>주의 글 스포 담다 있다 필자 영화 리뷰 하다 이전 제목 고민 해보다 왜 제목 이다...</td>\n    </tr>\n    <tr>\n      <th>3</th>\n      <td>소피와 드래곤: 마법책의 비밀</td>\n      <td>애니메이션 피 드래곤 시사회 초대권 장 드리다 애니메이션 피 드래곤 시사회 초대권 ...</td>\n    </tr>\n    <tr>\n      <th>4</th>\n      <td>소희의은근히꼴리는사생활</td>\n      <td>소희 은근 꼴리다 사생활 감독 김이슬 출연 안소희 민 도윤 개봉 대한민국 평점 리뷰...</td>\n    </tr>\n    <tr>\n      <th>...</th>\n      <td>...</td>\n      <td>...</td>\n    </tr>\n    <tr>\n      <th>201</th>\n      <td>체 게바라: 1부 아르헨티나</td>\n      <td>제국주의 대항 인물 비치 게바라 영화 것 관심 간다 영화 초기 장면 게바라 향 하다...</td>\n    </tr>\n    <tr>\n      <th>202</th>\n      <td>체 게바라: 2부 게릴라</td>\n      <td>이상 영화 여운 생각 남다 그 기체 볼리비아 다이어리 바탕 충실하다 레알 다큐 보여...</td>\n    </tr>\n    <tr>\n      <th>203</th>\n      <td>체인지오버</td>\n      <td>부천 영화제 관람 작 체인지 오버 뉴질랜드 장르 영화 미란다 코트 스튜어트 매켄지 ...</td>\n    </tr>\n    <tr>\n      <th>204</th>\n      <td>체크 히어로</td>\n      <td>남아 여 재미있다 적극 추천 하다 말 하다 캐릭터 솜 뭉치 봉제 인형 체크 히어로 ...</td>\n    </tr>\n    <tr>\n      <th>205</th>\n      <td>출동! 도토리 구조대</td>\n      <td>숲 지키다 출동 도토리 구조대 개봉 앞두다 특별하다 오늘 행복 가득하다 꽃 돼지 블...</td>\n    </tr>\n  </tbody>\n</table>\n<p>206 rows × 2 columns</p>\n</div>"
     },
     "execution_count": 17,
     "metadata": {},
     "output_type": "execute_result"
    }
   ],
   "source": [
    "df_one_sentences"
   ],
   "metadata": {
    "collapsed": false,
    "pycharm": {
     "name": "#%%\n"
    }
   }
  },
  {
   "cell_type": "code",
   "execution_count": 17,
   "outputs": [],
   "source": [],
   "metadata": {
    "collapsed": false,
    "pycharm": {
     "name": "#%%\n"
    }
   }
  }
 ],
 "metadata": {
  "kernelspec": {
   "display_name": "Python 3",
   "language": "python",
   "name": "python3"
  },
  "language_info": {
   "codemirror_mode": {
    "name": "ipython",
    "version": 2
   },
   "file_extension": ".py",
   "mimetype": "text/x-python",
   "name": "python",
   "nbconvert_exporter": "python",
   "pygments_lexer": "ipython2",
   "version": "2.7.6"
  }
 },
 "nbformat": 4,
 "nbformat_minor": 0
}